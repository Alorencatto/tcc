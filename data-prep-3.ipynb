{
 "cells": [
  {
   "cell_type": "code",
   "execution_count": 8,
   "metadata": {},
   "outputs": [],
   "source": [
    "import pandas as pd\n",
    "import numpy as np\n",
    "import glob"
   ]
  },
  {
   "cell_type": "markdown",
   "metadata": {},
   "source": [
    "### Carregando as bases de dados manipuladas n2"
   ]
  },
  {
   "cell_type": "code",
   "execution_count": 19,
   "metadata": {},
   "outputs": [
    {
     "name": "stdout",
     "output_type": "stream",
     "text": [
      "(89326, 10) (87672, 9)\n"
     ]
    }
   ],
   "source": [
    "df_carga : pd.DataFrame = pd.read_csv('./data/checkpoints/df_carga_v1.csv',sep=\t';')\n",
    "df_clima : pd.DataFrame = pd.read_csv('./data/checkpoints/df_clima_grouped_mean.csv')\n",
    "\n",
    "print(df_carga.shape, df_clima.shape)"
   ]
  },
  {
   "cell_type": "code",
   "execution_count": 24,
   "metadata": {},
   "outputs": [
    {
     "data": {
      "text/html": [
       "<div>\n",
       "<style scoped>\n",
       "    .dataframe tbody tr th:only-of-type {\n",
       "        vertical-align: middle;\n",
       "    }\n",
       "\n",
       "    .dataframe tbody tr th {\n",
       "        vertical-align: top;\n",
       "    }\n",
       "\n",
       "    .dataframe thead th {\n",
       "        text-align: right;\n",
       "    }\n",
       "</style>\n",
       "<table border=\"1\" class=\"dataframe\">\n",
       "  <thead>\n",
       "    <tr style=\"text-align: right;\">\n",
       "      <th></th>\n",
       "      <th>Unnamed: 0</th>\n",
       "      <th>id_subsistema</th>\n",
       "      <th>nom_subsistema</th>\n",
       "      <th>din_instante</th>\n",
       "      <th>val_cargaenergiahomwmed</th>\n",
       "      <th>year</th>\n",
       "      <th>month</th>\n",
       "      <th>day</th>\n",
       "      <th>hour</th>\n",
       "      <th>date</th>\n",
       "    </tr>\n",
       "  </thead>\n",
       "  <tbody>\n",
       "    <tr>\n",
       "      <th>0</th>\n",
       "      <td>3</td>\n",
       "      <td>SE</td>\n",
       "      <td>SUDESTE</td>\n",
       "      <td>2012-01-01 00:00:00</td>\n",
       "      <td>28212.46</td>\n",
       "      <td>2012</td>\n",
       "      <td>1</td>\n",
       "      <td>1</td>\n",
       "      <td>0</td>\n",
       "      <td>2012-01-01</td>\n",
       "    </tr>\n",
       "    <tr>\n",
       "      <th>1</th>\n",
       "      <td>7</td>\n",
       "      <td>SE</td>\n",
       "      <td>SUDESTE</td>\n",
       "      <td>2012-01-01 01:00:00</td>\n",
       "      <td>27511.77</td>\n",
       "      <td>2012</td>\n",
       "      <td>1</td>\n",
       "      <td>1</td>\n",
       "      <td>1</td>\n",
       "      <td>2012-01-01</td>\n",
       "    </tr>\n",
       "  </tbody>\n",
       "</table>\n",
       "</div>"
      ],
      "text/plain": [
       "   Unnamed: 0 id_subsistema nom_subsistema         din_instante  \\\n",
       "0           3            SE        SUDESTE  2012-01-01 00:00:00   \n",
       "1           7            SE        SUDESTE  2012-01-01 01:00:00   \n",
       "\n",
       "   val_cargaenergiahomwmed  year  month  day  hour        date  \n",
       "0                 28212.46  2012      1    1     0  2012-01-01  \n",
       "1                 27511.77  2012      1    1     1  2012-01-01  "
      ]
     },
     "execution_count": 24,
     "metadata": {},
     "output_type": "execute_result"
    }
   ],
   "source": [
    "df_carga.head(2)"
   ]
  },
  {
   "cell_type": "code",
   "execution_count": 21,
   "metadata": {},
   "outputs": [
    {
     "data": {
      "text/html": [
       "<div>\n",
       "<style scoped>\n",
       "    .dataframe tbody tr th:only-of-type {\n",
       "        vertical-align: middle;\n",
       "    }\n",
       "\n",
       "    .dataframe tbody tr th {\n",
       "        vertical-align: top;\n",
       "    }\n",
       "\n",
       "    .dataframe thead th {\n",
       "        text-align: right;\n",
       "    }\n",
       "</style>\n",
       "<table border=\"1\" class=\"dataframe\">\n",
       "  <thead>\n",
       "    <tr style=\"text-align: right;\">\n",
       "      <th></th>\n",
       "      <th>data-hora</th>\n",
       "      <th>precipitacao_total</th>\n",
       "      <th>pressao_atmosferica</th>\n",
       "      <th>radiacao_global</th>\n",
       "      <th>temperatura_ar</th>\n",
       "      <th>temperatura_ponto_carvalho</th>\n",
       "      <th>umidade_relativa_ar</th>\n",
       "      <th>vento_direcao</th>\n",
       "      <th>velocidade_vento</th>\n",
       "    </tr>\n",
       "  </thead>\n",
       "  <tbody>\n",
       "    <tr>\n",
       "      <th>0</th>\n",
       "      <td>2012-01-01 00:00:00</td>\n",
       "      <td>0.88</td>\n",
       "      <td>947.22</td>\n",
       "      <td>-2.8518</td>\n",
       "      <td>21.70</td>\n",
       "      <td>19.7</td>\n",
       "      <td>90.25</td>\n",
       "      <td>95.8</td>\n",
       "      <td>1.48</td>\n",
       "    </tr>\n",
       "    <tr>\n",
       "      <th>1</th>\n",
       "      <td>2012-01-01 01:00:00</td>\n",
       "      <td>2.00</td>\n",
       "      <td>947.30</td>\n",
       "      <td>-2.4346</td>\n",
       "      <td>21.24</td>\n",
       "      <td>19.5</td>\n",
       "      <td>92.00</td>\n",
       "      <td>114.0</td>\n",
       "      <td>0.80</td>\n",
       "    </tr>\n",
       "  </tbody>\n",
       "</table>\n",
       "</div>"
      ],
      "text/plain": [
       "             data-hora  precipitacao_total  pressao_atmosferica  \\\n",
       "0  2012-01-01 00:00:00                0.88               947.22   \n",
       "1  2012-01-01 01:00:00                2.00               947.30   \n",
       "\n",
       "   radiacao_global  temperatura_ar  temperatura_ponto_carvalho  \\\n",
       "0          -2.8518           21.70                        19.7   \n",
       "1          -2.4346           21.24                        19.5   \n",
       "\n",
       "   umidade_relativa_ar  vento_direcao  velocidade_vento  \n",
       "0                90.25           95.8              1.48  \n",
       "1                92.00          114.0              0.80  "
      ]
     },
     "execution_count": 21,
     "metadata": {},
     "output_type": "execute_result"
    }
   ],
   "source": [
    "df_clima.head(2)\n"
   ]
  },
  {
   "cell_type": "code",
   "execution_count": 25,
   "metadata": {},
   "outputs": [],
   "source": [
    "# Transformando as colunas de data-hora em index\n",
    "df_carga : pd.DataFrame = df_carga.set_index('din_instante')\n",
    "df_clima : pd.DataFrame = df_clima.set_index('data-hora')"
   ]
  },
  {
   "cell_type": "code",
   "execution_count": 31,
   "metadata": {},
   "outputs": [],
   "source": [
    "def find_row_by_index(df : pd.DataFrame, date : str,) -> pd.DataFrame:\n",
    "    \"\"\"\n",
    "    Função para encontrar uma linha de um dataframe a partir de um index\n",
    "    \n",
    "    Parameters\n",
    "    ----------\n",
    "    df : pd.DataFrame\n",
    "        Dataframe a ser pesquisado\n",
    "    date : str\n",
    "        Index a ser pesquisado\n",
    "    Returns\n",
    "    -------\n",
    "    pd.DataFrame\n",
    "        Dataframe com a linha pesquisada\n",
    "    \"\"\"\n",
    "    return df.filter(items=[date], axis=0)"
   ]
  },
  {
   "cell_type": "code",
   "execution_count": 33,
   "metadata": {},
   "outputs": [
    {
     "data": {
      "text/html": [
       "<div>\n",
       "<style scoped>\n",
       "    .dataframe tbody tr th:only-of-type {\n",
       "        vertical-align: middle;\n",
       "    }\n",
       "\n",
       "    .dataframe tbody tr th {\n",
       "        vertical-align: top;\n",
       "    }\n",
       "\n",
       "    .dataframe thead th {\n",
       "        text-align: right;\n",
       "    }\n",
       "</style>\n",
       "<table border=\"1\" class=\"dataframe\">\n",
       "  <thead>\n",
       "    <tr style=\"text-align: right;\">\n",
       "      <th></th>\n",
       "      <th>Unnamed: 0</th>\n",
       "      <th>id_subsistema</th>\n",
       "      <th>nom_subsistema</th>\n",
       "      <th>val_cargaenergiahomwmed</th>\n",
       "      <th>year</th>\n",
       "      <th>month</th>\n",
       "      <th>day</th>\n",
       "      <th>hour</th>\n",
       "      <th>date</th>\n",
       "    </tr>\n",
       "    <tr>\n",
       "      <th>din_instante</th>\n",
       "      <th></th>\n",
       "      <th></th>\n",
       "      <th></th>\n",
       "      <th></th>\n",
       "      <th></th>\n",
       "      <th></th>\n",
       "      <th></th>\n",
       "      <th></th>\n",
       "      <th></th>\n",
       "    </tr>\n",
       "  </thead>\n",
       "  <tbody>\n",
       "    <tr>\n",
       "      <th>2021-12-31 22:00:00</th>\n",
       "      <td>350435</td>\n",
       "      <td>SE</td>\n",
       "      <td>SUDESTE</td>\n",
       "      <td>35492.978</td>\n",
       "      <td>2021</td>\n",
       "      <td>12</td>\n",
       "      <td>31</td>\n",
       "      <td>22</td>\n",
       "      <td>2021-12-31</td>\n",
       "    </tr>\n",
       "  </tbody>\n",
       "</table>\n",
       "</div>"
      ],
      "text/plain": [
       "                     Unnamed: 0 id_subsistema nom_subsistema  \\\n",
       "din_instante                                                   \n",
       "2021-12-31 22:00:00      350435            SE        SUDESTE   \n",
       "\n",
       "                     val_cargaenergiahomwmed  year  month  day  hour  \\\n",
       "din_instante                                                           \n",
       "2021-12-31 22:00:00                35492.978  2021     12   31    22   \n",
       "\n",
       "                           date  \n",
       "din_instante                     \n",
       "2021-12-31 22:00:00  2021-12-31  "
      ]
     },
     "execution_count": 33,
     "metadata": {},
     "output_type": "execute_result"
    }
   ],
   "source": [
    "find_row_by_index(df_carga, '2021-12-31 22:00:00') # Filtrando a data especifica"
   ]
  },
  {
   "cell_type": "code",
   "execution_count": 40,
   "metadata": {},
   "outputs": [
    {
     "name": "stdout",
     "output_type": "stream",
     "text": [
      "(87670, 11)\n"
     ]
    },
    {
     "data": {
      "text/html": [
       "<div>\n",
       "<style scoped>\n",
       "    .dataframe tbody tr th:only-of-type {\n",
       "        vertical-align: middle;\n",
       "    }\n",
       "\n",
       "    .dataframe tbody tr th {\n",
       "        vertical-align: top;\n",
       "    }\n",
       "\n",
       "    .dataframe thead th {\n",
       "        text-align: right;\n",
       "    }\n",
       "</style>\n",
       "<table border=\"1\" class=\"dataframe\">\n",
       "  <thead>\n",
       "    <tr style=\"text-align: right;\">\n",
       "      <th></th>\n",
       "      <th>precipitacao_total</th>\n",
       "      <th>pressao_atmosferica</th>\n",
       "      <th>radiacao_global</th>\n",
       "      <th>temperatura_ar</th>\n",
       "      <th>temperatura_ponto_carvalho</th>\n",
       "      <th>umidade_relativa_ar</th>\n",
       "      <th>vento_direcao</th>\n",
       "      <th>velocidade_vento</th>\n",
       "      <th>id_subsistema</th>\n",
       "      <th>nom_subsistema</th>\n",
       "      <th>val_cargaenergiahomwmed</th>\n",
       "    </tr>\n",
       "  </thead>\n",
       "  <tbody>\n",
       "    <tr>\n",
       "      <th>2012-01-01 00:00:00</th>\n",
       "      <td>0.88</td>\n",
       "      <td>947.22</td>\n",
       "      <td>-2.8518</td>\n",
       "      <td>21.70</td>\n",
       "      <td>19.700</td>\n",
       "      <td>90.25</td>\n",
       "      <td>95.8</td>\n",
       "      <td>1.48</td>\n",
       "      <td>SE</td>\n",
       "      <td>SUDESTE</td>\n",
       "      <td>28212.46</td>\n",
       "    </tr>\n",
       "    <tr>\n",
       "      <th>2012-01-01 01:00:00</th>\n",
       "      <td>2.00</td>\n",
       "      <td>947.30</td>\n",
       "      <td>-2.4346</td>\n",
       "      <td>21.24</td>\n",
       "      <td>19.500</td>\n",
       "      <td>92.00</td>\n",
       "      <td>114.0</td>\n",
       "      <td>0.80</td>\n",
       "      <td>SE</td>\n",
       "      <td>SUDESTE</td>\n",
       "      <td>27511.77</td>\n",
       "    </tr>\n",
       "    <tr>\n",
       "      <th>2012-01-01 02:00:00</th>\n",
       "      <td>1.24</td>\n",
       "      <td>947.00</td>\n",
       "      <td>-2.3902</td>\n",
       "      <td>21.38</td>\n",
       "      <td>19.775</td>\n",
       "      <td>92.25</td>\n",
       "      <td>159.2</td>\n",
       "      <td>0.62</td>\n",
       "      <td>SE</td>\n",
       "      <td>SUDESTE</td>\n",
       "      <td>26339.97</td>\n",
       "    </tr>\n",
       "  </tbody>\n",
       "</table>\n",
       "</div>"
      ],
      "text/plain": [
       "                     precipitacao_total  pressao_atmosferica  radiacao_global  \\\n",
       "2012-01-01 00:00:00                0.88               947.22          -2.8518   \n",
       "2012-01-01 01:00:00                2.00               947.30          -2.4346   \n",
       "2012-01-01 02:00:00                1.24               947.00          -2.3902   \n",
       "\n",
       "                     temperatura_ar  temperatura_ponto_carvalho  \\\n",
       "2012-01-01 00:00:00           21.70                      19.700   \n",
       "2012-01-01 01:00:00           21.24                      19.500   \n",
       "2012-01-01 02:00:00           21.38                      19.775   \n",
       "\n",
       "                     umidade_relativa_ar  vento_direcao  velocidade_vento  \\\n",
       "2012-01-01 00:00:00                90.25           95.8              1.48   \n",
       "2012-01-01 01:00:00                92.00          114.0              0.80   \n",
       "2012-01-01 02:00:00                92.25          159.2              0.62   \n",
       "\n",
       "                    id_subsistema nom_subsistema  val_cargaenergiahomwmed  \n",
       "2012-01-01 00:00:00            SE        SUDESTE                 28212.46  \n",
       "2012-01-01 01:00:00            SE        SUDESTE                 27511.77  \n",
       "2012-01-01 02:00:00            SE        SUDESTE                 26339.97  "
      ]
     },
     "execution_count": 40,
     "metadata": {},
     "output_type": "execute_result"
    }
   ],
   "source": [
    "## Unindo as bases de dados\n",
    "df_full : pd.DataFrame = pd.merge(df_carga, df_clima, left_index=True, right_index=True, how='inner')\n",
    "# df_full.head()\n",
    "\n",
    "df_full_v1 : pd.DataFrame = df_full[['precipitacao_total','pressao_atmosferica',\n",
    "    'radiacao_global','temperatura_ar','temperatura_ponto_carvalho','umidade_relativa_ar','vento_direcao','velocidade_vento',\n",
    "    'id_subsistema','nom_subsistema','val_cargaenergiahomwmed'\n",
    "    ]]\n",
    "\n",
    "df_full_v1.to_csv(\"./data/checkpoints/df_full_v1.csv\")\n",
    "print(df_full_v1.shape)\n",
    "df_full_v1.head(3)\n"
   ]
  },
  {
   "cell_type": "code",
   "execution_count": 39,
   "metadata": {},
   "outputs": [
    {
     "data": {
      "text/html": [
       "<div>\n",
       "<style scoped>\n",
       "    .dataframe tbody tr th:only-of-type {\n",
       "        vertical-align: middle;\n",
       "    }\n",
       "\n",
       "    .dataframe tbody tr th {\n",
       "        vertical-align: top;\n",
       "    }\n",
       "\n",
       "    .dataframe thead th {\n",
       "        text-align: right;\n",
       "    }\n",
       "</style>\n",
       "<table border=\"1\" class=\"dataframe\">\n",
       "  <thead>\n",
       "    <tr style=\"text-align: right;\">\n",
       "      <th></th>\n",
       "      <th>precipitacao_total</th>\n",
       "      <th>pressao_atmosferica</th>\n",
       "      <th>radiacao_global</th>\n",
       "      <th>temperatura_ar</th>\n",
       "      <th>temperatura_ponto_carvalho</th>\n",
       "      <th>umidade_relativa_ar</th>\n",
       "      <th>vento_direcao</th>\n",
       "      <th>velocidade_vento</th>\n",
       "      <th>id_subsistema</th>\n",
       "      <th>nom_subsistema</th>\n",
       "      <th>val_cargaenergiahomwmed</th>\n",
       "    </tr>\n",
       "  </thead>\n",
       "  <tbody>\n",
       "    <tr>\n",
       "      <th>2021-12-31 22:00:00</th>\n",
       "      <td>0.12</td>\n",
       "      <td>938.78</td>\n",
       "      <td>131.3264</td>\n",
       "      <td>22.16</td>\n",
       "      <td>19.44</td>\n",
       "      <td>85.4</td>\n",
       "      <td>145.4</td>\n",
       "      <td>1.38</td>\n",
       "      <td>SE</td>\n",
       "      <td>SUDESTE</td>\n",
       "      <td>35492.978</td>\n",
       "    </tr>\n",
       "  </tbody>\n",
       "</table>\n",
       "</div>"
      ],
      "text/plain": [
       "                     precipitacao_total  pressao_atmosferica  radiacao_global  \\\n",
       "2021-12-31 22:00:00                0.12               938.78         131.3264   \n",
       "\n",
       "                     temperatura_ar  temperatura_ponto_carvalho  \\\n",
       "2021-12-31 22:00:00           22.16                       19.44   \n",
       "\n",
       "                     umidade_relativa_ar  vento_direcao  velocidade_vento  \\\n",
       "2021-12-31 22:00:00                 85.4          145.4              1.38   \n",
       "\n",
       "                    id_subsistema nom_subsistema  val_cargaenergiahomwmed  \n",
       "2021-12-31 22:00:00            SE        SUDESTE                35492.978  "
      ]
     },
     "execution_count": 39,
     "metadata": {},
     "output_type": "execute_result"
    }
   ],
   "source": [
    "find_row_by_index(df_full_v1, '2021-12-31 22:00:00')"
   ]
  },
  {
   "cell_type": "code",
   "execution_count": 43,
   "metadata": {},
   "outputs": [
    {
     "data": {
      "text/plain": [
       "('2012-01-01 00:00:00', '2021-12-31 23:00:00')"
      ]
     },
     "execution_count": 43,
     "metadata": {},
     "output_type": "execute_result"
    }
   ],
   "source": [
    "## Checando os valores mínimos e máximos de data\n",
    "df_full_v1.index.min(), df_full_v1.index.max()"
   ]
  }
 ],
 "metadata": {
  "interpreter": {
   "hash": "5f0346635cf8f04e68ecfba6340487bde1746b185b03be25b7c44578a3d6e0d2"
  },
  "kernelspec": {
   "display_name": "Python 3.8.8 ('venv': venv)",
   "language": "python",
   "name": "python3"
  },
  "language_info": {
   "codemirror_mode": {
    "name": "ipython",
    "version": 3
   },
   "file_extension": ".py",
   "mimetype": "text/x-python",
   "name": "python",
   "nbconvert_exporter": "python",
   "pygments_lexer": "ipython3",
   "version": "3.8.8"
  },
  "orig_nbformat": 4
 },
 "nbformat": 4,
 "nbformat_minor": 2
}
