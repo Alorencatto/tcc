{
 "cells": [
  {
   "cell_type": "code",
   "execution_count": 58,
   "metadata": {},
   "outputs": [],
   "source": [
    "import pandas as pd\n",
    "import numpy as np\n",
    "import matplotlib.pyplot as plt\n",
    "import time\n",
    "import seaborn as sns\n",
    "import holidays\n",
    "import joblib\n",
    "from sklearn.linear_model import LinearRegression\n",
    "from sklearn.metrics import (explained_variance_score, \n",
    "                             mean_absolute_error, \n",
    "                             mean_squared_error, \n",
    "                             mean_squared_log_error,\n",
    "                             r2_score)\n",
    "from sklearn.model_selection import (GridSearchCV,\n",
    "                                     TimeSeriesSplit)\n",
    "from sklearn.model_selection import train_test_split\n",
    "from sklearn.pipeline import Pipeline\n",
    "\n",
    "\n",
    "from sklearn.metrics import mean_squared_error, mean_absolute_error\n",
    "from sklearn.model_selection import TimeSeriesSplit\n",
    "from sklearn.model_selection import RandomizedSearchCV\n",
    "import numpy as np\n",
    "import matplotlib.pyplot as plt\n",
    "import time\n",
    "import seaborn as sns\n",
    "import holidays\n",
    "from sklearn.linear_model import LinearRegression\n",
    "from sklearn.metrics import (explained_variance_score, \n",
    "                             mean_absolute_error, \n",
    "                             mean_squared_error, \n",
    "                             mean_squared_log_error,\n",
    "                             r2_score)\n",
    "from sklearn.model_selection import (GridSearchCV,\n",
    "                                     TimeSeriesSplit)\n",
    "from sklearn.model_selection import train_test_split\n",
    "from sklearn.pipeline import Pipeline\n",
    "\n",
    "\n",
    "from sklearn.metrics import mean_squared_error, mean_absolute_error\n",
    "from sklearn.model_selection import TimeSeriesSplit\n",
    "from sklearn.model_selection import RandomizedSearchCV\n",
    "\n",
    "import xgboost as xgb\n",
    "from xgboost import plot_importance, plot_tree"
   ]
  },
  {
   "cell_type": "code",
   "execution_count": 41,
   "metadata": {},
   "outputs": [
    {
     "data": {
      "text/html": [
       "<div>\n",
       "<style scoped>\n",
       "    .dataframe tbody tr th:only-of-type {\n",
       "        vertical-align: middle;\n",
       "    }\n",
       "\n",
       "    .dataframe tbody tr th {\n",
       "        vertical-align: top;\n",
       "    }\n",
       "\n",
       "    .dataframe thead th {\n",
       "        text-align: right;\n",
       "    }\n",
       "</style>\n",
       "<table border=\"1\" class=\"dataframe\">\n",
       "  <thead>\n",
       "    <tr style=\"text-align: right;\">\n",
       "      <th></th>\n",
       "      <th>precipitacao_total</th>\n",
       "      <th>pressao_atmosferica</th>\n",
       "      <th>radiacao_global</th>\n",
       "      <th>temperatura_ar</th>\n",
       "      <th>temperatura_ponto_carvalho</th>\n",
       "      <th>umidade_relativa_ar</th>\n",
       "      <th>vento_direcao</th>\n",
       "      <th>velocidade_vento</th>\n",
       "      <th>id_subsistema</th>\n",
       "      <th>nom_subsistema</th>\n",
       "      <th>...</th>\n",
       "      <th>DayOfYear</th>\n",
       "      <th>WeekOfYear</th>\n",
       "      <th>lag_1</th>\n",
       "      <th>lag_7</th>\n",
       "      <th>lag_14</th>\n",
       "      <th>rolling_mean_1</th>\n",
       "      <th>rolling_mean_7</th>\n",
       "      <th>rolling_mean_14</th>\n",
       "      <th>el_nino</th>\n",
       "      <th>la_nina</th>\n",
       "    </tr>\n",
       "  </thead>\n",
       "  <tbody>\n",
       "    <tr>\n",
       "      <th>2012-01-01 00:00:00</th>\n",
       "      <td>0.88</td>\n",
       "      <td>947.22</td>\n",
       "      <td>-2.8518</td>\n",
       "      <td>21.70</td>\n",
       "      <td>19.7</td>\n",
       "      <td>90.25</td>\n",
       "      <td>95.8</td>\n",
       "      <td>1.48</td>\n",
       "      <td>SE</td>\n",
       "      <td>SUDESTE</td>\n",
       "      <td>...</td>\n",
       "      <td>1</td>\n",
       "      <td>52</td>\n",
       "      <td>NaN</td>\n",
       "      <td>NaN</td>\n",
       "      <td>NaN</td>\n",
       "      <td>NaN</td>\n",
       "      <td>NaN</td>\n",
       "      <td>NaN</td>\n",
       "      <td>0</td>\n",
       "      <td>0</td>\n",
       "    </tr>\n",
       "    <tr>\n",
       "      <th>2012-01-01 01:00:00</th>\n",
       "      <td>2.00</td>\n",
       "      <td>947.30</td>\n",
       "      <td>-2.4346</td>\n",
       "      <td>21.24</td>\n",
       "      <td>19.5</td>\n",
       "      <td>92.00</td>\n",
       "      <td>114.0</td>\n",
       "      <td>0.80</td>\n",
       "      <td>SE</td>\n",
       "      <td>SUDESTE</td>\n",
       "      <td>...</td>\n",
       "      <td>1</td>\n",
       "      <td>52</td>\n",
       "      <td>NaN</td>\n",
       "      <td>NaN</td>\n",
       "      <td>NaN</td>\n",
       "      <td>NaN</td>\n",
       "      <td>NaN</td>\n",
       "      <td>NaN</td>\n",
       "      <td>0</td>\n",
       "      <td>0</td>\n",
       "    </tr>\n",
       "  </tbody>\n",
       "</table>\n",
       "<p>2 rows × 35 columns</p>\n",
       "</div>"
      ],
      "text/plain": [
       "                     precipitacao_total  pressao_atmosferica  radiacao_global  \\\n",
       "2012-01-01 00:00:00                0.88               947.22          -2.8518   \n",
       "2012-01-01 01:00:00                2.00               947.30          -2.4346   \n",
       "\n",
       "                     temperatura_ar  temperatura_ponto_carvalho  \\\n",
       "2012-01-01 00:00:00           21.70                        19.7   \n",
       "2012-01-01 01:00:00           21.24                        19.5   \n",
       "\n",
       "                     umidade_relativa_ar  vento_direcao  velocidade_vento  \\\n",
       "2012-01-01 00:00:00                90.25           95.8              1.48   \n",
       "2012-01-01 01:00:00                92.00          114.0              0.80   \n",
       "\n",
       "                    id_subsistema nom_subsistema  ...  DayOfYear  WeekOfYear  \\\n",
       "2012-01-01 00:00:00            SE        SUDESTE  ...          1          52   \n",
       "2012-01-01 01:00:00            SE        SUDESTE  ...          1          52   \n",
       "\n",
       "                     lag_1  lag_7  lag_14  rolling_mean_1  rolling_mean_7  \\\n",
       "2012-01-01 00:00:00    NaN    NaN     NaN             NaN             NaN   \n",
       "2012-01-01 01:00:00    NaN    NaN     NaN             NaN             NaN   \n",
       "\n",
       "                     rolling_mean_14  el_nino  la_nina  \n",
       "2012-01-01 00:00:00              NaN        0        0  \n",
       "2012-01-01 01:00:00              NaN        0        0  \n",
       "\n",
       "[2 rows x 35 columns]"
      ]
     },
     "execution_count": 41,
     "metadata": {},
     "output_type": "execute_result"
    }
   ],
   "source": [
    "df : pd.DataFrame = pd.read_csv('./data/checkpoints/df_demanda_potencia_v2.csv',index_col='Unnamed: 0')\n",
    "df.head(2)\n"
   ]
  },
  {
   "cell_type": "code",
   "execution_count": 42,
   "metadata": {},
   "outputs": [],
   "source": [
    "# Interpolando com o metodo de bfill\n",
    "#TODO: Ver se é o melhor método, e fazer apenas para o valor target\n",
    "#https://note.nkmk.me/en/python-pandas-interpolate/#:~:text=You%20can%20interpolate%20missing%20values,and%20Series%20with%20interpolate()%20.&text=Use%20dropna()%20and%20fillna,them%20with%20a%20specific%20value.\n",
    "\n",
    "#bfill preenche com o próximo valor\n",
    "#ffill preenche com o valor anterior\n",
    "#spline interpolacao de spline\n",
    "    #\n",
    "\n",
    "# df['val_cargaenergiahomwmed'] = df['val_cargaenergiahomwmed'].fillna(method='bfill')\n",
    "df['val_cargaenergiahomwmed'] = df['val_cargaenergiahomwmed'].fillna(method='ffill')\n",
    "# df['val_cargaenergiahomwmed'] = df['val_cargaenergiahomwmed'].interpolate(method='time')"
   ]
  },
  {
   "cell_type": "code",
   "execution_count": 43,
   "metadata": {},
   "outputs": [
    {
     "data": {
      "text/plain": [
       "0"
      ]
     },
     "execution_count": 43,
     "metadata": {},
     "output_type": "execute_result"
    }
   ],
   "source": [
    "df['val_cargaenergiahomwmed'].isnull().sum()\n",
    "\n",
    "# df['val_cargaenergiahomwmed'][df['val_cargaenergiahomwmed'].isnull()]"
   ]
  },
  {
   "cell_type": "code",
   "execution_count": 44,
   "metadata": {},
   "outputs": [
    {
     "data": {
      "text/html": [
       "<div>\n",
       "<style scoped>\n",
       "    .dataframe tbody tr th:only-of-type {\n",
       "        vertical-align: middle;\n",
       "    }\n",
       "\n",
       "    .dataframe tbody tr th {\n",
       "        vertical-align: top;\n",
       "    }\n",
       "\n",
       "    .dataframe thead th {\n",
       "        text-align: right;\n",
       "    }\n",
       "</style>\n",
       "<table border=\"1\" class=\"dataframe\">\n",
       "  <thead>\n",
       "    <tr style=\"text-align: right;\">\n",
       "      <th></th>\n",
       "      <th>precipitacao_total</th>\n",
       "      <th>pressao_atmosferica</th>\n",
       "      <th>radiacao_global</th>\n",
       "      <th>temperatura_ar</th>\n",
       "      <th>temperatura_ponto_carvalho</th>\n",
       "      <th>umidade_relativa_ar</th>\n",
       "      <th>vento_direcao</th>\n",
       "      <th>velocidade_vento</th>\n",
       "      <th>id_subsistema</th>\n",
       "      <th>nom_subsistema</th>\n",
       "      <th>...</th>\n",
       "      <th>DayOfYear</th>\n",
       "      <th>WeekOfYear</th>\n",
       "      <th>lag_1</th>\n",
       "      <th>lag_7</th>\n",
       "      <th>lag_14</th>\n",
       "      <th>rolling_mean_1</th>\n",
       "      <th>rolling_mean_7</th>\n",
       "      <th>rolling_mean_14</th>\n",
       "      <th>el_nino</th>\n",
       "      <th>la_nina</th>\n",
       "    </tr>\n",
       "  </thead>\n",
       "  <tbody>\n",
       "    <tr>\n",
       "      <th>2012-01-01 00:00:00</th>\n",
       "      <td>0.88</td>\n",
       "      <td>947.22</td>\n",
       "      <td>-2.8518</td>\n",
       "      <td>21.70</td>\n",
       "      <td>19.700</td>\n",
       "      <td>90.25</td>\n",
       "      <td>95.8</td>\n",
       "      <td>1.48</td>\n",
       "      <td>SE</td>\n",
       "      <td>SUDESTE</td>\n",
       "      <td>...</td>\n",
       "      <td>1</td>\n",
       "      <td>52</td>\n",
       "      <td>NaN</td>\n",
       "      <td>NaN</td>\n",
       "      <td>NaN</td>\n",
       "      <td>NaN</td>\n",
       "      <td>NaN</td>\n",
       "      <td>NaN</td>\n",
       "      <td>0</td>\n",
       "      <td>0</td>\n",
       "    </tr>\n",
       "    <tr>\n",
       "      <th>2012-01-01 01:00:00</th>\n",
       "      <td>2.00</td>\n",
       "      <td>947.30</td>\n",
       "      <td>-2.4346</td>\n",
       "      <td>21.24</td>\n",
       "      <td>19.500</td>\n",
       "      <td>92.00</td>\n",
       "      <td>114.0</td>\n",
       "      <td>0.80</td>\n",
       "      <td>SE</td>\n",
       "      <td>SUDESTE</td>\n",
       "      <td>...</td>\n",
       "      <td>1</td>\n",
       "      <td>52</td>\n",
       "      <td>NaN</td>\n",
       "      <td>NaN</td>\n",
       "      <td>NaN</td>\n",
       "      <td>NaN</td>\n",
       "      <td>NaN</td>\n",
       "      <td>NaN</td>\n",
       "      <td>0</td>\n",
       "      <td>0</td>\n",
       "    </tr>\n",
       "    <tr>\n",
       "      <th>2012-01-01 02:00:00</th>\n",
       "      <td>1.24</td>\n",
       "      <td>947.00</td>\n",
       "      <td>-2.3902</td>\n",
       "      <td>21.38</td>\n",
       "      <td>19.775</td>\n",
       "      <td>92.25</td>\n",
       "      <td>159.2</td>\n",
       "      <td>0.62</td>\n",
       "      <td>SE</td>\n",
       "      <td>SUDESTE</td>\n",
       "      <td>...</td>\n",
       "      <td>1</td>\n",
       "      <td>52</td>\n",
       "      <td>NaN</td>\n",
       "      <td>NaN</td>\n",
       "      <td>NaN</td>\n",
       "      <td>NaN</td>\n",
       "      <td>NaN</td>\n",
       "      <td>NaN</td>\n",
       "      <td>0</td>\n",
       "      <td>0</td>\n",
       "    </tr>\n",
       "    <tr>\n",
       "      <th>2012-01-01 03:00:00</th>\n",
       "      <td>0.44</td>\n",
       "      <td>946.26</td>\n",
       "      <td>-2.2756</td>\n",
       "      <td>21.34</td>\n",
       "      <td>19.425</td>\n",
       "      <td>91.00</td>\n",
       "      <td>178.4</td>\n",
       "      <td>0.46</td>\n",
       "      <td>SE</td>\n",
       "      <td>SUDESTE</td>\n",
       "      <td>...</td>\n",
       "      <td>1</td>\n",
       "      <td>52</td>\n",
       "      <td>NaN</td>\n",
       "      <td>NaN</td>\n",
       "      <td>NaN</td>\n",
       "      <td>NaN</td>\n",
       "      <td>NaN</td>\n",
       "      <td>NaN</td>\n",
       "      <td>0</td>\n",
       "      <td>0</td>\n",
       "    </tr>\n",
       "    <tr>\n",
       "      <th>2012-01-01 04:00:00</th>\n",
       "      <td>0.32</td>\n",
       "      <td>945.56</td>\n",
       "      <td>-2.2820</td>\n",
       "      <td>21.18</td>\n",
       "      <td>19.775</td>\n",
       "      <td>94.00</td>\n",
       "      <td>116.8</td>\n",
       "      <td>0.32</td>\n",
       "      <td>SE</td>\n",
       "      <td>SUDESTE</td>\n",
       "      <td>...</td>\n",
       "      <td>1</td>\n",
       "      <td>52</td>\n",
       "      <td>NaN</td>\n",
       "      <td>NaN</td>\n",
       "      <td>NaN</td>\n",
       "      <td>NaN</td>\n",
       "      <td>NaN</td>\n",
       "      <td>NaN</td>\n",
       "      <td>0</td>\n",
       "      <td>0</td>\n",
       "    </tr>\n",
       "  </tbody>\n",
       "</table>\n",
       "<p>5 rows × 35 columns</p>\n",
       "</div>"
      ],
      "text/plain": [
       "                     precipitacao_total  pressao_atmosferica  radiacao_global  \\\n",
       "2012-01-01 00:00:00                0.88               947.22          -2.8518   \n",
       "2012-01-01 01:00:00                2.00               947.30          -2.4346   \n",
       "2012-01-01 02:00:00                1.24               947.00          -2.3902   \n",
       "2012-01-01 03:00:00                0.44               946.26          -2.2756   \n",
       "2012-01-01 04:00:00                0.32               945.56          -2.2820   \n",
       "\n",
       "                     temperatura_ar  temperatura_ponto_carvalho  \\\n",
       "2012-01-01 00:00:00           21.70                      19.700   \n",
       "2012-01-01 01:00:00           21.24                      19.500   \n",
       "2012-01-01 02:00:00           21.38                      19.775   \n",
       "2012-01-01 03:00:00           21.34                      19.425   \n",
       "2012-01-01 04:00:00           21.18                      19.775   \n",
       "\n",
       "                     umidade_relativa_ar  vento_direcao  velocidade_vento  \\\n",
       "2012-01-01 00:00:00                90.25           95.8              1.48   \n",
       "2012-01-01 01:00:00                92.00          114.0              0.80   \n",
       "2012-01-01 02:00:00                92.25          159.2              0.62   \n",
       "2012-01-01 03:00:00                91.00          178.4              0.46   \n",
       "2012-01-01 04:00:00                94.00          116.8              0.32   \n",
       "\n",
       "                    id_subsistema nom_subsistema  ...  DayOfYear  WeekOfYear  \\\n",
       "2012-01-01 00:00:00            SE        SUDESTE  ...          1          52   \n",
       "2012-01-01 01:00:00            SE        SUDESTE  ...          1          52   \n",
       "2012-01-01 02:00:00            SE        SUDESTE  ...          1          52   \n",
       "2012-01-01 03:00:00            SE        SUDESTE  ...          1          52   \n",
       "2012-01-01 04:00:00            SE        SUDESTE  ...          1          52   \n",
       "\n",
       "                     lag_1  lag_7  lag_14  rolling_mean_1  rolling_mean_7  \\\n",
       "2012-01-01 00:00:00    NaN    NaN     NaN             NaN             NaN   \n",
       "2012-01-01 01:00:00    NaN    NaN     NaN             NaN             NaN   \n",
       "2012-01-01 02:00:00    NaN    NaN     NaN             NaN             NaN   \n",
       "2012-01-01 03:00:00    NaN    NaN     NaN             NaN             NaN   \n",
       "2012-01-01 04:00:00    NaN    NaN     NaN             NaN             NaN   \n",
       "\n",
       "                     rolling_mean_14  el_nino  la_nina  \n",
       "2012-01-01 00:00:00              NaN        0        0  \n",
       "2012-01-01 01:00:00              NaN        0        0  \n",
       "2012-01-01 02:00:00              NaN        0        0  \n",
       "2012-01-01 03:00:00              NaN        0        0  \n",
       "2012-01-01 04:00:00              NaN        0        0  \n",
       "\n",
       "[5 rows x 35 columns]"
      ]
     },
     "execution_count": 44,
     "metadata": {},
     "output_type": "execute_result"
    }
   ],
   "source": [
    "df.head()"
   ]
  },
  {
   "cell_type": "code",
   "execution_count": 45,
   "metadata": {},
   "outputs": [
    {
     "name": "stdout",
     "output_type": "stream",
     "text": [
      "(78910, 35) (8759, 35)\n"
     ]
    }
   ],
   "source": [
    "# Dividindo os dados de treino e teste\n",
    "\n",
    "df_train_xg = df.loc[\"2012-01-01\":\"2020-31-12 00:00\"]\n",
    "df_test_xg = df.loc[\"2021-01-01 00:00\":\"2021-12-31 23:00\"]\n",
    "\n",
    "columns_to_drop : list = [\"val_cargaenergiahomwmed\",\"nom_subsistema\",\"id_subsistema\",\"dataref\",\"max_executado\",\"DATE\",\"ORDINAL_DATE\",\"LINREG\",\"dia_semana\"]\n",
    "\n",
    "print(df_train_xg.shape,df_test_xg.shape)\n",
    "\n",
    "X_train_xg = df_train_xg.drop(columns=columns_to_drop)\n",
    "y_train_xg = df_train_xg[\"val_cargaenergiahomwmed\"]\n",
    "X_test_xg = df_test_xg.drop(columns=columns_to_drop)\n",
    "y_test_xg = df_test_xg[\"val_cargaenergiahomwmed\"]"
   ]
  },
  {
   "cell_type": "code",
   "execution_count": 46,
   "metadata": {},
   "outputs": [],
   "source": [
    "X_train_xg.head()\n",
    "X_train_xg.to_csv(\"./data/temp/X_train_xg.csv\")"
   ]
  },
  {
   "cell_type": "code",
   "execution_count": 47,
   "metadata": {},
   "outputs": [],
   "source": [
    "cv = TimeSeriesSplit(n_splits=5)\n",
    "\n",
    "parameters = {\"learning_rate\": [0.1, 0.05],\n",
    "              #The learning rate is the shrinkage you do at every step you are making\n",
    "\n",
    "               \"gamma\" : [0.01, 0.1, 0.3, 0.5],\n",
    "              #A node is split only when the resulting split gives a positive reduction in the loss function. Gamma specifies the minimum loss reduction required to make a split.\n",
    "              #Makes the algorithm conservative. The values can vary depending on the loss function and should be tuned.\n",
    "              \n",
    "               \"max_depth\": [2, 4, 7, 10],\n",
    "              #The maximum depth of a tree, same as GBM.\n",
    "              #Used to control over-fitting as higher depth will allow model to learn relations very specific to a particular sample.\n",
    "\n",
    "               \"colsample_bytree\": [0.3, 0.6],\n",
    "              #Denotes the fraction of columns to be randomly samples for each tree.\n",
    "\n",
    "               \"subsample\": [0.2, 0.4, 0.5],\n",
    "              #Denotes the fraction of observations to be randomly samples for each tree.\n",
    "              #Lower values make the algorithm more conservative and prevents overfitting but too small values might lead to under-fitting.\n",
    "\n",
    "               \"reg_alpha\": [0, 0.5, 1],\n",
    "              #L1 regularization term on weights. Increasing this value will make model more conservative.\n",
    "\n",
    "               \"reg_lambda\": [1, 1.5, 2, 3, 4.5],\n",
    "              #L2 regularization term on weights. Increasing this value will make model more conservative.\n",
    "\n",
    "               \"min_child_weight\": [1, 3, 5, 7],\n",
    "              #The larger min_child_weight is, the more conservative the algorithm will be.\n",
    "\n",
    "               \"n_estimators\": [100, 250, 500]}\n",
    "              #Number of tress or rounds. The more, the higher the risk of overfitting\n",
    "\n",
    "xgbr = xgb.XGBRegressor(objective='reg:squarederror' , sampling_method = 'gradient_based', tree_method = 'gpu_hist')\n",
    "\n",
    "xgb_rscv = RandomizedSearchCV(xgbr, param_distributions = parameters,  verbose = 3, random_state = 40, cv=cv)"
   ]
  },
  {
   "cell_type": "code",
   "execution_count": 48,
   "metadata": {},
   "outputs": [
    {
     "name": "stdout",
     "output_type": "stream",
     "text": [
      "Fitting 5 folds for each of 10 candidates, totalling 50 fits\n"
     ]
    },
    {
     "name": "stderr",
     "output_type": "stream",
     "text": [
      "c:\\Users\\augusto.lourencatto\\Desktop\\me\\TCC\\venv\\lib\\site-packages\\xgboost\\data.py:262: FutureWarning: pandas.Int64Index is deprecated and will be removed from pandas in a future version. Use pandas.Index with the appropriate dtype instead.\n",
      "  elif isinstance(data.columns, (pd.Int64Index, pd.RangeIndex)):\n"
     ]
    },
    {
     "name": "stdout",
     "output_type": "stream",
     "text": [
      "[CV 1/5] END colsample_bytree=0.3, gamma=0.3, learning_rate=0.05, max_depth=4, min_child_weight=3, n_estimators=500, reg_alpha=0.5, reg_lambda=3, subsample=0.4;, score=0.914 total time=   2.4s\n"
     ]
    },
    {
     "name": "stderr",
     "output_type": "stream",
     "text": [
      "c:\\Users\\augusto.lourencatto\\Desktop\\me\\TCC\\venv\\lib\\site-packages\\xgboost\\data.py:262: FutureWarning: pandas.Int64Index is deprecated and will be removed from pandas in a future version. Use pandas.Index with the appropriate dtype instead.\n",
      "  elif isinstance(data.columns, (pd.Int64Index, pd.RangeIndex)):\n"
     ]
    },
    {
     "name": "stdout",
     "output_type": "stream",
     "text": [
      "[CV 2/5] END colsample_bytree=0.3, gamma=0.3, learning_rate=0.05, max_depth=4, min_child_weight=3, n_estimators=500, reg_alpha=0.5, reg_lambda=3, subsample=0.4;, score=0.912 total time=   2.2s\n"
     ]
    },
    {
     "name": "stderr",
     "output_type": "stream",
     "text": [
      "c:\\Users\\augusto.lourencatto\\Desktop\\me\\TCC\\venv\\lib\\site-packages\\xgboost\\data.py:262: FutureWarning: pandas.Int64Index is deprecated and will be removed from pandas in a future version. Use pandas.Index with the appropriate dtype instead.\n",
      "  elif isinstance(data.columns, (pd.Int64Index, pd.RangeIndex)):\n"
     ]
    },
    {
     "name": "stdout",
     "output_type": "stream",
     "text": [
      "[CV 3/5] END colsample_bytree=0.3, gamma=0.3, learning_rate=0.05, max_depth=4, min_child_weight=3, n_estimators=500, reg_alpha=0.5, reg_lambda=3, subsample=0.4;, score=0.943 total time=   2.8s\n"
     ]
    },
    {
     "name": "stderr",
     "output_type": "stream",
     "text": [
      "c:\\Users\\augusto.lourencatto\\Desktop\\me\\TCC\\venv\\lib\\site-packages\\xgboost\\data.py:262: FutureWarning: pandas.Int64Index is deprecated and will be removed from pandas in a future version. Use pandas.Index with the appropriate dtype instead.\n",
      "  elif isinstance(data.columns, (pd.Int64Index, pd.RangeIndex)):\n"
     ]
    },
    {
     "name": "stdout",
     "output_type": "stream",
     "text": [
      "[CV 4/5] END colsample_bytree=0.3, gamma=0.3, learning_rate=0.05, max_depth=4, min_child_weight=3, n_estimators=500, reg_alpha=0.5, reg_lambda=3, subsample=0.4;, score=0.933 total time=   3.3s\n"
     ]
    },
    {
     "name": "stderr",
     "output_type": "stream",
     "text": [
      "c:\\Users\\augusto.lourencatto\\Desktop\\me\\TCC\\venv\\lib\\site-packages\\xgboost\\data.py:262: FutureWarning: pandas.Int64Index is deprecated and will be removed from pandas in a future version. Use pandas.Index with the appropriate dtype instead.\n",
      "  elif isinstance(data.columns, (pd.Int64Index, pd.RangeIndex)):\n"
     ]
    },
    {
     "name": "stdout",
     "output_type": "stream",
     "text": [
      "[CV 5/5] END colsample_bytree=0.3, gamma=0.3, learning_rate=0.05, max_depth=4, min_child_weight=3, n_estimators=500, reg_alpha=0.5, reg_lambda=3, subsample=0.4;, score=0.942 total time=   4.1s\n"
     ]
    },
    {
     "name": "stderr",
     "output_type": "stream",
     "text": [
      "c:\\Users\\augusto.lourencatto\\Desktop\\me\\TCC\\venv\\lib\\site-packages\\xgboost\\data.py:262: FutureWarning: pandas.Int64Index is deprecated and will be removed from pandas in a future version. Use pandas.Index with the appropriate dtype instead.\n",
      "  elif isinstance(data.columns, (pd.Int64Index, pd.RangeIndex)):\n"
     ]
    },
    {
     "name": "stdout",
     "output_type": "stream",
     "text": [
      "[CV 1/5] END colsample_bytree=0.6, gamma=0.5, learning_rate=0.1, max_depth=2, min_child_weight=7, n_estimators=250, reg_alpha=1, reg_lambda=2, subsample=0.4;, score=0.910 total time=   2.0s\n"
     ]
    },
    {
     "name": "stderr",
     "output_type": "stream",
     "text": [
      "c:\\Users\\augusto.lourencatto\\Desktop\\me\\TCC\\venv\\lib\\site-packages\\xgboost\\data.py:262: FutureWarning: pandas.Int64Index is deprecated and will be removed from pandas in a future version. Use pandas.Index with the appropriate dtype instead.\n",
      "  elif isinstance(data.columns, (pd.Int64Index, pd.RangeIndex)):\n"
     ]
    },
    {
     "name": "stdout",
     "output_type": "stream",
     "text": [
      "[CV 2/5] END colsample_bytree=0.6, gamma=0.5, learning_rate=0.1, max_depth=2, min_child_weight=7, n_estimators=250, reg_alpha=1, reg_lambda=2, subsample=0.4;, score=0.900 total time=   3.4s\n"
     ]
    },
    {
     "name": "stderr",
     "output_type": "stream",
     "text": [
      "c:\\Users\\augusto.lourencatto\\Desktop\\me\\TCC\\venv\\lib\\site-packages\\xgboost\\data.py:262: FutureWarning: pandas.Int64Index is deprecated and will be removed from pandas in a future version. Use pandas.Index with the appropriate dtype instead.\n",
      "  elif isinstance(data.columns, (pd.Int64Index, pd.RangeIndex)):\n"
     ]
    },
    {
     "name": "stdout",
     "output_type": "stream",
     "text": [
      "[CV 3/5] END colsample_bytree=0.6, gamma=0.5, learning_rate=0.1, max_depth=2, min_child_weight=7, n_estimators=250, reg_alpha=1, reg_lambda=2, subsample=0.4;, score=0.930 total time=   4.3s\n"
     ]
    },
    {
     "name": "stderr",
     "output_type": "stream",
     "text": [
      "c:\\Users\\augusto.lourencatto\\Desktop\\me\\TCC\\venv\\lib\\site-packages\\xgboost\\data.py:262: FutureWarning: pandas.Int64Index is deprecated and will be removed from pandas in a future version. Use pandas.Index with the appropriate dtype instead.\n",
      "  elif isinstance(data.columns, (pd.Int64Index, pd.RangeIndex)):\n"
     ]
    },
    {
     "name": "stdout",
     "output_type": "stream",
     "text": [
      "[CV 4/5] END colsample_bytree=0.6, gamma=0.5, learning_rate=0.1, max_depth=2, min_child_weight=7, n_estimators=250, reg_alpha=1, reg_lambda=2, subsample=0.4;, score=0.908 total time=   5.2s\n"
     ]
    },
    {
     "name": "stderr",
     "output_type": "stream",
     "text": [
      "c:\\Users\\augusto.lourencatto\\Desktop\\me\\TCC\\venv\\lib\\site-packages\\xgboost\\data.py:262: FutureWarning: pandas.Int64Index is deprecated and will be removed from pandas in a future version. Use pandas.Index with the appropriate dtype instead.\n",
      "  elif isinstance(data.columns, (pd.Int64Index, pd.RangeIndex)):\n"
     ]
    },
    {
     "name": "stdout",
     "output_type": "stream",
     "text": [
      "[CV 5/5] END colsample_bytree=0.6, gamma=0.5, learning_rate=0.1, max_depth=2, min_child_weight=7, n_estimators=250, reg_alpha=1, reg_lambda=2, subsample=0.4;, score=0.920 total time=   6.2s\n"
     ]
    },
    {
     "name": "stderr",
     "output_type": "stream",
     "text": [
      "c:\\Users\\augusto.lourencatto\\Desktop\\me\\TCC\\venv\\lib\\site-packages\\xgboost\\data.py:262: FutureWarning: pandas.Int64Index is deprecated and will be removed from pandas in a future version. Use pandas.Index with the appropriate dtype instead.\n",
      "  elif isinstance(data.columns, (pd.Int64Index, pd.RangeIndex)):\n"
     ]
    },
    {
     "name": "stdout",
     "output_type": "stream",
     "text": [
      "[CV 1/5] END colsample_bytree=0.3, gamma=0.5, learning_rate=0.1, max_depth=7, min_child_weight=7, n_estimators=250, reg_alpha=0, reg_lambda=3, subsample=0.5;, score=0.910 total time=   5.4s\n"
     ]
    },
    {
     "name": "stderr",
     "output_type": "stream",
     "text": [
      "c:\\Users\\augusto.lourencatto\\Desktop\\me\\TCC\\venv\\lib\\site-packages\\xgboost\\data.py:262: FutureWarning: pandas.Int64Index is deprecated and will be removed from pandas in a future version. Use pandas.Index with the appropriate dtype instead.\n",
      "  elif isinstance(data.columns, (pd.Int64Index, pd.RangeIndex)):\n"
     ]
    },
    {
     "name": "stdout",
     "output_type": "stream",
     "text": [
      "[CV 2/5] END colsample_bytree=0.3, gamma=0.5, learning_rate=0.1, max_depth=7, min_child_weight=7, n_estimators=250, reg_alpha=0, reg_lambda=3, subsample=0.5;, score=0.897 total time=   4.4s\n"
     ]
    },
    {
     "name": "stderr",
     "output_type": "stream",
     "text": [
      "c:\\Users\\augusto.lourencatto\\Desktop\\me\\TCC\\venv\\lib\\site-packages\\xgboost\\data.py:262: FutureWarning: pandas.Int64Index is deprecated and will be removed from pandas in a future version. Use pandas.Index with the appropriate dtype instead.\n",
      "  elif isinstance(data.columns, (pd.Int64Index, pd.RangeIndex)):\n"
     ]
    },
    {
     "name": "stdout",
     "output_type": "stream",
     "text": [
      "[CV 3/5] END colsample_bytree=0.3, gamma=0.5, learning_rate=0.1, max_depth=7, min_child_weight=7, n_estimators=250, reg_alpha=0, reg_lambda=3, subsample=0.5;, score=0.944 total time=   5.3s\n"
     ]
    },
    {
     "name": "stderr",
     "output_type": "stream",
     "text": [
      "c:\\Users\\augusto.lourencatto\\Desktop\\me\\TCC\\venv\\lib\\site-packages\\xgboost\\data.py:262: FutureWarning: pandas.Int64Index is deprecated and will be removed from pandas in a future version. Use pandas.Index with the appropriate dtype instead.\n",
      "  elif isinstance(data.columns, (pd.Int64Index, pd.RangeIndex)):\n"
     ]
    },
    {
     "name": "stdout",
     "output_type": "stream",
     "text": [
      "[CV 4/5] END colsample_bytree=0.3, gamma=0.5, learning_rate=0.1, max_depth=7, min_child_weight=7, n_estimators=250, reg_alpha=0, reg_lambda=3, subsample=0.5;, score=0.932 total time=   6.3s\n"
     ]
    },
    {
     "name": "stderr",
     "output_type": "stream",
     "text": [
      "c:\\Users\\augusto.lourencatto\\Desktop\\me\\TCC\\venv\\lib\\site-packages\\xgboost\\data.py:262: FutureWarning: pandas.Int64Index is deprecated and will be removed from pandas in a future version. Use pandas.Index with the appropriate dtype instead.\n",
      "  elif isinstance(data.columns, (pd.Int64Index, pd.RangeIndex)):\n"
     ]
    },
    {
     "name": "stdout",
     "output_type": "stream",
     "text": [
      "[CV 5/5] END colsample_bytree=0.3, gamma=0.5, learning_rate=0.1, max_depth=7, min_child_weight=7, n_estimators=250, reg_alpha=0, reg_lambda=3, subsample=0.5;, score=0.942 total time=   6.6s\n"
     ]
    },
    {
     "name": "stderr",
     "output_type": "stream",
     "text": [
      "c:\\Users\\augusto.lourencatto\\Desktop\\me\\TCC\\venv\\lib\\site-packages\\xgboost\\data.py:262: FutureWarning: pandas.Int64Index is deprecated and will be removed from pandas in a future version. Use pandas.Index with the appropriate dtype instead.\n",
      "  elif isinstance(data.columns, (pd.Int64Index, pd.RangeIndex)):\n"
     ]
    },
    {
     "name": "stdout",
     "output_type": "stream",
     "text": [
      "[CV 1/5] END colsample_bytree=0.6, gamma=0.3, learning_rate=0.1, max_depth=10, min_child_weight=1, n_estimators=500, reg_alpha=0, reg_lambda=3, subsample=0.4;, score=0.918 total time=  28.0s\n"
     ]
    },
    {
     "name": "stderr",
     "output_type": "stream",
     "text": [
      "c:\\Users\\augusto.lourencatto\\Desktop\\me\\TCC\\venv\\lib\\site-packages\\xgboost\\data.py:262: FutureWarning: pandas.Int64Index is deprecated and will be removed from pandas in a future version. Use pandas.Index with the appropriate dtype instead.\n",
      "  elif isinstance(data.columns, (pd.Int64Index, pd.RangeIndex)):\n"
     ]
    },
    {
     "name": "stdout",
     "output_type": "stream",
     "text": [
      "[CV 2/5] END colsample_bytree=0.6, gamma=0.3, learning_rate=0.1, max_depth=10, min_child_weight=1, n_estimators=500, reg_alpha=0, reg_lambda=3, subsample=0.4;, score=0.906 total time=  44.5s\n"
     ]
    },
    {
     "name": "stderr",
     "output_type": "stream",
     "text": [
      "c:\\Users\\augusto.lourencatto\\Desktop\\me\\TCC\\venv\\lib\\site-packages\\xgboost\\data.py:262: FutureWarning: pandas.Int64Index is deprecated and will be removed from pandas in a future version. Use pandas.Index with the appropriate dtype instead.\n",
      "  elif isinstance(data.columns, (pd.Int64Index, pd.RangeIndex)):\n"
     ]
    },
    {
     "name": "stdout",
     "output_type": "stream",
     "text": [
      "[CV 3/5] END colsample_bytree=0.6, gamma=0.3, learning_rate=0.1, max_depth=10, min_child_weight=1, n_estimators=500, reg_alpha=0, reg_lambda=3, subsample=0.4;, score=0.952 total time=  40.6s\n"
     ]
    },
    {
     "name": "stderr",
     "output_type": "stream",
     "text": [
      "c:\\Users\\augusto.lourencatto\\Desktop\\me\\TCC\\venv\\lib\\site-packages\\xgboost\\data.py:262: FutureWarning: pandas.Int64Index is deprecated and will be removed from pandas in a future version. Use pandas.Index with the appropriate dtype instead.\n",
      "  elif isinstance(data.columns, (pd.Int64Index, pd.RangeIndex)):\n"
     ]
    },
    {
     "name": "stdout",
     "output_type": "stream",
     "text": [
      "[CV 4/5] END colsample_bytree=0.6, gamma=0.3, learning_rate=0.1, max_depth=10, min_child_weight=1, n_estimators=500, reg_alpha=0, reg_lambda=3, subsample=0.4;, score=0.936 total time=  39.8s\n"
     ]
    },
    {
     "name": "stderr",
     "output_type": "stream",
     "text": [
      "c:\\Users\\augusto.lourencatto\\Desktop\\me\\TCC\\venv\\lib\\site-packages\\xgboost\\data.py:262: FutureWarning: pandas.Int64Index is deprecated and will be removed from pandas in a future version. Use pandas.Index with the appropriate dtype instead.\n",
      "  elif isinstance(data.columns, (pd.Int64Index, pd.RangeIndex)):\n"
     ]
    },
    {
     "name": "stdout",
     "output_type": "stream",
     "text": [
      "[CV 5/5] END colsample_bytree=0.6, gamma=0.3, learning_rate=0.1, max_depth=10, min_child_weight=1, n_estimators=500, reg_alpha=0, reg_lambda=3, subsample=0.4;, score=0.946 total time=  45.8s\n"
     ]
    },
    {
     "name": "stderr",
     "output_type": "stream",
     "text": [
      "c:\\Users\\augusto.lourencatto\\Desktop\\me\\TCC\\venv\\lib\\site-packages\\xgboost\\data.py:262: FutureWarning: pandas.Int64Index is deprecated and will be removed from pandas in a future version. Use pandas.Index with the appropriate dtype instead.\n",
      "  elif isinstance(data.columns, (pd.Int64Index, pd.RangeIndex)):\n"
     ]
    },
    {
     "name": "stdout",
     "output_type": "stream",
     "text": [
      "[CV 1/5] END colsample_bytree=0.3, gamma=0.3, learning_rate=0.05, max_depth=4, min_child_weight=3, n_estimators=250, reg_alpha=0, reg_lambda=4.5, subsample=0.2;, score=0.915 total time=   1.1s\n"
     ]
    },
    {
     "name": "stderr",
     "output_type": "stream",
     "text": [
      "c:\\Users\\augusto.lourencatto\\Desktop\\me\\TCC\\venv\\lib\\site-packages\\xgboost\\data.py:262: FutureWarning: pandas.Int64Index is deprecated and will be removed from pandas in a future version. Use pandas.Index with the appropriate dtype instead.\n",
      "  elif isinstance(data.columns, (pd.Int64Index, pd.RangeIndex)):\n"
     ]
    },
    {
     "name": "stdout",
     "output_type": "stream",
     "text": [
      "[CV 2/5] END colsample_bytree=0.3, gamma=0.3, learning_rate=0.05, max_depth=4, min_child_weight=3, n_estimators=250, reg_alpha=0, reg_lambda=4.5, subsample=0.2;, score=0.910 total time=   1.4s\n"
     ]
    },
    {
     "name": "stderr",
     "output_type": "stream",
     "text": [
      "c:\\Users\\augusto.lourencatto\\Desktop\\me\\TCC\\venv\\lib\\site-packages\\xgboost\\data.py:262: FutureWarning: pandas.Int64Index is deprecated and will be removed from pandas in a future version. Use pandas.Index with the appropriate dtype instead.\n",
      "  elif isinstance(data.columns, (pd.Int64Index, pd.RangeIndex)):\n"
     ]
    },
    {
     "name": "stdout",
     "output_type": "stream",
     "text": [
      "[CV 3/5] END colsample_bytree=0.3, gamma=0.3, learning_rate=0.05, max_depth=4, min_child_weight=3, n_estimators=250, reg_alpha=0, reg_lambda=4.5, subsample=0.2;, score=0.939 total time=   1.9s\n"
     ]
    },
    {
     "name": "stderr",
     "output_type": "stream",
     "text": [
      "c:\\Users\\augusto.lourencatto\\Desktop\\me\\TCC\\venv\\lib\\site-packages\\xgboost\\data.py:262: FutureWarning: pandas.Int64Index is deprecated and will be removed from pandas in a future version. Use pandas.Index with the appropriate dtype instead.\n",
      "  elif isinstance(data.columns, (pd.Int64Index, pd.RangeIndex)):\n"
     ]
    },
    {
     "name": "stdout",
     "output_type": "stream",
     "text": [
      "[CV 4/5] END colsample_bytree=0.3, gamma=0.3, learning_rate=0.05, max_depth=4, min_child_weight=3, n_estimators=250, reg_alpha=0, reg_lambda=4.5, subsample=0.2;, score=0.923 total time=   1.9s\n"
     ]
    },
    {
     "name": "stderr",
     "output_type": "stream",
     "text": [
      "c:\\Users\\augusto.lourencatto\\Desktop\\me\\TCC\\venv\\lib\\site-packages\\xgboost\\data.py:262: FutureWarning: pandas.Int64Index is deprecated and will be removed from pandas in a future version. Use pandas.Index with the appropriate dtype instead.\n",
      "  elif isinstance(data.columns, (pd.Int64Index, pd.RangeIndex)):\n"
     ]
    },
    {
     "name": "stdout",
     "output_type": "stream",
     "text": [
      "[CV 5/5] END colsample_bytree=0.3, gamma=0.3, learning_rate=0.05, max_depth=4, min_child_weight=3, n_estimators=250, reg_alpha=0, reg_lambda=4.5, subsample=0.2;, score=0.932 total time=   2.3s\n"
     ]
    },
    {
     "name": "stderr",
     "output_type": "stream",
     "text": [
      "c:\\Users\\augusto.lourencatto\\Desktop\\me\\TCC\\venv\\lib\\site-packages\\xgboost\\data.py:262: FutureWarning: pandas.Int64Index is deprecated and will be removed from pandas in a future version. Use pandas.Index with the appropriate dtype instead.\n",
      "  elif isinstance(data.columns, (pd.Int64Index, pd.RangeIndex)):\n"
     ]
    },
    {
     "name": "stdout",
     "output_type": "stream",
     "text": [
      "[CV 1/5] END colsample_bytree=0.3, gamma=0.1, learning_rate=0.1, max_depth=10, min_child_weight=1, n_estimators=100, reg_alpha=0.5, reg_lambda=1.5, subsample=0.4;, score=0.888 total time=   6.2s\n"
     ]
    },
    {
     "name": "stderr",
     "output_type": "stream",
     "text": [
      "c:\\Users\\augusto.lourencatto\\Desktop\\me\\TCC\\venv\\lib\\site-packages\\xgboost\\data.py:262: FutureWarning: pandas.Int64Index is deprecated and will be removed from pandas in a future version. Use pandas.Index with the appropriate dtype instead.\n",
      "  elif isinstance(data.columns, (pd.Int64Index, pd.RangeIndex)):\n"
     ]
    },
    {
     "name": "stdout",
     "output_type": "stream",
     "text": [
      "[CV 2/5] END colsample_bytree=0.3, gamma=0.1, learning_rate=0.1, max_depth=10, min_child_weight=1, n_estimators=100, reg_alpha=0.5, reg_lambda=1.5, subsample=0.4;, score=0.878 total time=   7.6s\n"
     ]
    },
    {
     "name": "stderr",
     "output_type": "stream",
     "text": [
      "c:\\Users\\augusto.lourencatto\\Desktop\\me\\TCC\\venv\\lib\\site-packages\\xgboost\\data.py:262: FutureWarning: pandas.Int64Index is deprecated and will be removed from pandas in a future version. Use pandas.Index with the appropriate dtype instead.\n",
      "  elif isinstance(data.columns, (pd.Int64Index, pd.RangeIndex)):\n"
     ]
    },
    {
     "name": "stdout",
     "output_type": "stream",
     "text": [
      "[CV 3/5] END colsample_bytree=0.3, gamma=0.1, learning_rate=0.1, max_depth=10, min_child_weight=1, n_estimators=100, reg_alpha=0.5, reg_lambda=1.5, subsample=0.4;, score=0.937 total time=   8.2s\n"
     ]
    },
    {
     "name": "stderr",
     "output_type": "stream",
     "text": [
      "c:\\Users\\augusto.lourencatto\\Desktop\\me\\TCC\\venv\\lib\\site-packages\\xgboost\\data.py:262: FutureWarning: pandas.Int64Index is deprecated and will be removed from pandas in a future version. Use pandas.Index with the appropriate dtype instead.\n",
      "  elif isinstance(data.columns, (pd.Int64Index, pd.RangeIndex)):\n"
     ]
    },
    {
     "name": "stdout",
     "output_type": "stream",
     "text": [
      "[CV 4/5] END colsample_bytree=0.3, gamma=0.1, learning_rate=0.1, max_depth=10, min_child_weight=1, n_estimators=100, reg_alpha=0.5, reg_lambda=1.5, subsample=0.4;, score=0.917 total time=   8.8s\n"
     ]
    },
    {
     "name": "stderr",
     "output_type": "stream",
     "text": [
      "c:\\Users\\augusto.lourencatto\\Desktop\\me\\TCC\\venv\\lib\\site-packages\\xgboost\\data.py:262: FutureWarning: pandas.Int64Index is deprecated and will be removed from pandas in a future version. Use pandas.Index with the appropriate dtype instead.\n",
      "  elif isinstance(data.columns, (pd.Int64Index, pd.RangeIndex)):\n"
     ]
    },
    {
     "name": "stdout",
     "output_type": "stream",
     "text": [
      "[CV 5/5] END colsample_bytree=0.3, gamma=0.1, learning_rate=0.1, max_depth=10, min_child_weight=1, n_estimators=100, reg_alpha=0.5, reg_lambda=1.5, subsample=0.4;, score=0.929 total time=   9.9s\n"
     ]
    },
    {
     "name": "stderr",
     "output_type": "stream",
     "text": [
      "c:\\Users\\augusto.lourencatto\\Desktop\\me\\TCC\\venv\\lib\\site-packages\\xgboost\\data.py:262: FutureWarning: pandas.Int64Index is deprecated and will be removed from pandas in a future version. Use pandas.Index with the appropriate dtype instead.\n",
      "  elif isinstance(data.columns, (pd.Int64Index, pd.RangeIndex)):\n"
     ]
    },
    {
     "name": "stdout",
     "output_type": "stream",
     "text": [
      "[CV 1/5] END colsample_bytree=0.3, gamma=0.3, learning_rate=0.05, max_depth=10, min_child_weight=7, n_estimators=250, reg_alpha=1, reg_lambda=4.5, subsample=0.5;, score=0.912 total time=  11.3s\n"
     ]
    },
    {
     "name": "stderr",
     "output_type": "stream",
     "text": [
      "c:\\Users\\augusto.lourencatto\\Desktop\\me\\TCC\\venv\\lib\\site-packages\\xgboost\\data.py:262: FutureWarning: pandas.Int64Index is deprecated and will be removed from pandas in a future version. Use pandas.Index with the appropriate dtype instead.\n",
      "  elif isinstance(data.columns, (pd.Int64Index, pd.RangeIndex)):\n"
     ]
    },
    {
     "name": "stdout",
     "output_type": "stream",
     "text": [
      "[CV 2/5] END colsample_bytree=0.3, gamma=0.3, learning_rate=0.05, max_depth=10, min_child_weight=7, n_estimators=250, reg_alpha=1, reg_lambda=4.5, subsample=0.5;, score=0.902 total time=  14.3s\n"
     ]
    },
    {
     "name": "stderr",
     "output_type": "stream",
     "text": [
      "c:\\Users\\augusto.lourencatto\\Desktop\\me\\TCC\\venv\\lib\\site-packages\\xgboost\\data.py:262: FutureWarning: pandas.Int64Index is deprecated and will be removed from pandas in a future version. Use pandas.Index with the appropriate dtype instead.\n",
      "  elif isinstance(data.columns, (pd.Int64Index, pd.RangeIndex)):\n"
     ]
    },
    {
     "name": "stdout",
     "output_type": "stream",
     "text": [
      "[CV 3/5] END colsample_bytree=0.3, gamma=0.3, learning_rate=0.05, max_depth=10, min_child_weight=7, n_estimators=250, reg_alpha=1, reg_lambda=4.5, subsample=0.5;, score=0.946 total time=  16.2s\n"
     ]
    },
    {
     "name": "stderr",
     "output_type": "stream",
     "text": [
      "c:\\Users\\augusto.lourencatto\\Desktop\\me\\TCC\\venv\\lib\\site-packages\\xgboost\\data.py:262: FutureWarning: pandas.Int64Index is deprecated and will be removed from pandas in a future version. Use pandas.Index with the appropriate dtype instead.\n",
      "  elif isinstance(data.columns, (pd.Int64Index, pd.RangeIndex)):\n"
     ]
    },
    {
     "name": "stdout",
     "output_type": "stream",
     "text": [
      "[CV 4/5] END colsample_bytree=0.3, gamma=0.3, learning_rate=0.05, max_depth=10, min_child_weight=7, n_estimators=250, reg_alpha=1, reg_lambda=4.5, subsample=0.5;, score=0.932 total time=  18.6s\n"
     ]
    },
    {
     "name": "stderr",
     "output_type": "stream",
     "text": [
      "c:\\Users\\augusto.lourencatto\\Desktop\\me\\TCC\\venv\\lib\\site-packages\\xgboost\\data.py:262: FutureWarning: pandas.Int64Index is deprecated and will be removed from pandas in a future version. Use pandas.Index with the appropriate dtype instead.\n",
      "  elif isinstance(data.columns, (pd.Int64Index, pd.RangeIndex)):\n"
     ]
    },
    {
     "name": "stdout",
     "output_type": "stream",
     "text": [
      "[CV 5/5] END colsample_bytree=0.3, gamma=0.3, learning_rate=0.05, max_depth=10, min_child_weight=7, n_estimators=250, reg_alpha=1, reg_lambda=4.5, subsample=0.5;, score=0.939 total time=  19.0s\n"
     ]
    },
    {
     "name": "stderr",
     "output_type": "stream",
     "text": [
      "c:\\Users\\augusto.lourencatto\\Desktop\\me\\TCC\\venv\\lib\\site-packages\\xgboost\\data.py:262: FutureWarning: pandas.Int64Index is deprecated and will be removed from pandas in a future version. Use pandas.Index with the appropriate dtype instead.\n",
      "  elif isinstance(data.columns, (pd.Int64Index, pd.RangeIndex)):\n"
     ]
    },
    {
     "name": "stdout",
     "output_type": "stream",
     "text": [
      "[CV 1/5] END colsample_bytree=0.3, gamma=0.01, learning_rate=0.05, max_depth=7, min_child_weight=5, n_estimators=500, reg_alpha=0, reg_lambda=1.5, subsample=0.2;, score=0.906 total time=   7.8s\n"
     ]
    },
    {
     "name": "stderr",
     "output_type": "stream",
     "text": [
      "c:\\Users\\augusto.lourencatto\\Desktop\\me\\TCC\\venv\\lib\\site-packages\\xgboost\\data.py:262: FutureWarning: pandas.Int64Index is deprecated and will be removed from pandas in a future version. Use pandas.Index with the appropriate dtype instead.\n",
      "  elif isinstance(data.columns, (pd.Int64Index, pd.RangeIndex)):\n"
     ]
    },
    {
     "name": "stdout",
     "output_type": "stream",
     "text": [
      "[CV 2/5] END colsample_bytree=0.3, gamma=0.01, learning_rate=0.05, max_depth=7, min_child_weight=5, n_estimators=500, reg_alpha=0, reg_lambda=1.5, subsample=0.2;, score=0.901 total time=   9.3s\n"
     ]
    },
    {
     "name": "stderr",
     "output_type": "stream",
     "text": [
      "c:\\Users\\augusto.lourencatto\\Desktop\\me\\TCC\\venv\\lib\\site-packages\\xgboost\\data.py:262: FutureWarning: pandas.Int64Index is deprecated and will be removed from pandas in a future version. Use pandas.Index with the appropriate dtype instead.\n",
      "  elif isinstance(data.columns, (pd.Int64Index, pd.RangeIndex)):\n"
     ]
    },
    {
     "name": "stdout",
     "output_type": "stream",
     "text": [
      "[CV 3/5] END colsample_bytree=0.3, gamma=0.01, learning_rate=0.05, max_depth=7, min_child_weight=5, n_estimators=500, reg_alpha=0, reg_lambda=1.5, subsample=0.2;, score=0.947 total time=  10.5s\n"
     ]
    },
    {
     "name": "stderr",
     "output_type": "stream",
     "text": [
      "c:\\Users\\augusto.lourencatto\\Desktop\\me\\TCC\\venv\\lib\\site-packages\\xgboost\\data.py:262: FutureWarning: pandas.Int64Index is deprecated and will be removed from pandas in a future version. Use pandas.Index with the appropriate dtype instead.\n",
      "  elif isinstance(data.columns, (pd.Int64Index, pd.RangeIndex)):\n"
     ]
    },
    {
     "name": "stdout",
     "output_type": "stream",
     "text": [
      "[CV 4/5] END colsample_bytree=0.3, gamma=0.01, learning_rate=0.05, max_depth=7, min_child_weight=5, n_estimators=500, reg_alpha=0, reg_lambda=1.5, subsample=0.2;, score=0.936 total time=  11.0s\n"
     ]
    },
    {
     "name": "stderr",
     "output_type": "stream",
     "text": [
      "c:\\Users\\augusto.lourencatto\\Desktop\\me\\TCC\\venv\\lib\\site-packages\\xgboost\\data.py:262: FutureWarning: pandas.Int64Index is deprecated and will be removed from pandas in a future version. Use pandas.Index with the appropriate dtype instead.\n",
      "  elif isinstance(data.columns, (pd.Int64Index, pd.RangeIndex)):\n"
     ]
    },
    {
     "name": "stdout",
     "output_type": "stream",
     "text": [
      "[CV 5/5] END colsample_bytree=0.3, gamma=0.01, learning_rate=0.05, max_depth=7, min_child_weight=5, n_estimators=500, reg_alpha=0, reg_lambda=1.5, subsample=0.2;, score=0.943 total time=  11.8s\n"
     ]
    },
    {
     "name": "stderr",
     "output_type": "stream",
     "text": [
      "c:\\Users\\augusto.lourencatto\\Desktop\\me\\TCC\\venv\\lib\\site-packages\\xgboost\\data.py:262: FutureWarning: pandas.Int64Index is deprecated and will be removed from pandas in a future version. Use pandas.Index with the appropriate dtype instead.\n",
      "  elif isinstance(data.columns, (pd.Int64Index, pd.RangeIndex)):\n"
     ]
    },
    {
     "name": "stdout",
     "output_type": "stream",
     "text": [
      "[CV 1/5] END colsample_bytree=0.3, gamma=0.1, learning_rate=0.05, max_depth=7, min_child_weight=5, n_estimators=100, reg_alpha=0, reg_lambda=3, subsample=0.2;, score=0.898 total time=   1.3s\n"
     ]
    },
    {
     "name": "stderr",
     "output_type": "stream",
     "text": [
      "c:\\Users\\augusto.lourencatto\\Desktop\\me\\TCC\\venv\\lib\\site-packages\\xgboost\\data.py:262: FutureWarning: pandas.Int64Index is deprecated and will be removed from pandas in a future version. Use pandas.Index with the appropriate dtype instead.\n",
      "  elif isinstance(data.columns, (pd.Int64Index, pd.RangeIndex)):\n"
     ]
    },
    {
     "name": "stdout",
     "output_type": "stream",
     "text": [
      "[CV 2/5] END colsample_bytree=0.3, gamma=0.1, learning_rate=0.05, max_depth=7, min_child_weight=5, n_estimators=100, reg_alpha=0, reg_lambda=3, subsample=0.2;, score=0.890 total time=   1.6s\n"
     ]
    },
    {
     "name": "stderr",
     "output_type": "stream",
     "text": [
      "c:\\Users\\augusto.lourencatto\\Desktop\\me\\TCC\\venv\\lib\\site-packages\\xgboost\\data.py:262: FutureWarning: pandas.Int64Index is deprecated and will be removed from pandas in a future version. Use pandas.Index with the appropriate dtype instead.\n",
      "  elif isinstance(data.columns, (pd.Int64Index, pd.RangeIndex)):\n"
     ]
    },
    {
     "name": "stdout",
     "output_type": "stream",
     "text": [
      "[CV 3/5] END colsample_bytree=0.3, gamma=0.1, learning_rate=0.05, max_depth=7, min_child_weight=5, n_estimators=100, reg_alpha=0, reg_lambda=3, subsample=0.2;, score=0.928 total time=   1.8s\n"
     ]
    },
    {
     "name": "stderr",
     "output_type": "stream",
     "text": [
      "c:\\Users\\augusto.lourencatto\\Desktop\\me\\TCC\\venv\\lib\\site-packages\\xgboost\\data.py:262: FutureWarning: pandas.Int64Index is deprecated and will be removed from pandas in a future version. Use pandas.Index with the appropriate dtype instead.\n",
      "  elif isinstance(data.columns, (pd.Int64Index, pd.RangeIndex)):\n"
     ]
    },
    {
     "name": "stdout",
     "output_type": "stream",
     "text": [
      "[CV 4/5] END colsample_bytree=0.3, gamma=0.1, learning_rate=0.05, max_depth=7, min_child_weight=5, n_estimators=100, reg_alpha=0, reg_lambda=3, subsample=0.2;, score=0.906 total time=   2.1s\n"
     ]
    },
    {
     "name": "stderr",
     "output_type": "stream",
     "text": [
      "c:\\Users\\augusto.lourencatto\\Desktop\\me\\TCC\\venv\\lib\\site-packages\\xgboost\\data.py:262: FutureWarning: pandas.Int64Index is deprecated and will be removed from pandas in a future version. Use pandas.Index with the appropriate dtype instead.\n",
      "  elif isinstance(data.columns, (pd.Int64Index, pd.RangeIndex)):\n"
     ]
    },
    {
     "name": "stdout",
     "output_type": "stream",
     "text": [
      "[CV 5/5] END colsample_bytree=0.3, gamma=0.1, learning_rate=0.05, max_depth=7, min_child_weight=5, n_estimators=100, reg_alpha=0, reg_lambda=3, subsample=0.2;, score=0.919 total time=   2.3s\n"
     ]
    },
    {
     "name": "stderr",
     "output_type": "stream",
     "text": [
      "c:\\Users\\augusto.lourencatto\\Desktop\\me\\TCC\\venv\\lib\\site-packages\\xgboost\\data.py:262: FutureWarning: pandas.Int64Index is deprecated and will be removed from pandas in a future version. Use pandas.Index with the appropriate dtype instead.\n",
      "  elif isinstance(data.columns, (pd.Int64Index, pd.RangeIndex)):\n"
     ]
    },
    {
     "name": "stdout",
     "output_type": "stream",
     "text": [
      "[CV 1/5] END colsample_bytree=0.3, gamma=0.3, learning_rate=0.1, max_depth=10, min_child_weight=1, n_estimators=100, reg_alpha=1, reg_lambda=1.5, subsample=0.5;, score=0.895 total time=   5.5s\n"
     ]
    },
    {
     "name": "stderr",
     "output_type": "stream",
     "text": [
      "c:\\Users\\augusto.lourencatto\\Desktop\\me\\TCC\\venv\\lib\\site-packages\\xgboost\\data.py:262: FutureWarning: pandas.Int64Index is deprecated and will be removed from pandas in a future version. Use pandas.Index with the appropriate dtype instead.\n",
      "  elif isinstance(data.columns, (pd.Int64Index, pd.RangeIndex)):\n"
     ]
    },
    {
     "name": "stdout",
     "output_type": "stream",
     "text": [
      "[CV 2/5] END colsample_bytree=0.3, gamma=0.3, learning_rate=0.1, max_depth=10, min_child_weight=1, n_estimators=100, reg_alpha=1, reg_lambda=1.5, subsample=0.5;, score=0.883 total time=   7.5s\n"
     ]
    },
    {
     "name": "stderr",
     "output_type": "stream",
     "text": [
      "c:\\Users\\augusto.lourencatto\\Desktop\\me\\TCC\\venv\\lib\\site-packages\\xgboost\\data.py:262: FutureWarning: pandas.Int64Index is deprecated and will be removed from pandas in a future version. Use pandas.Index with the appropriate dtype instead.\n",
      "  elif isinstance(data.columns, (pd.Int64Index, pd.RangeIndex)):\n"
     ]
    },
    {
     "name": "stdout",
     "output_type": "stream",
     "text": [
      "[CV 3/5] END colsample_bytree=0.3, gamma=0.3, learning_rate=0.1, max_depth=10, min_child_weight=1, n_estimators=100, reg_alpha=1, reg_lambda=1.5, subsample=0.5;, score=0.933 total time=  10.1s\n"
     ]
    },
    {
     "name": "stderr",
     "output_type": "stream",
     "text": [
      "c:\\Users\\augusto.lourencatto\\Desktop\\me\\TCC\\venv\\lib\\site-packages\\xgboost\\data.py:262: FutureWarning: pandas.Int64Index is deprecated and will be removed from pandas in a future version. Use pandas.Index with the appropriate dtype instead.\n",
      "  elif isinstance(data.columns, (pd.Int64Index, pd.RangeIndex)):\n"
     ]
    },
    {
     "name": "stdout",
     "output_type": "stream",
     "text": [
      "[CV 4/5] END colsample_bytree=0.3, gamma=0.3, learning_rate=0.1, max_depth=10, min_child_weight=1, n_estimators=100, reg_alpha=1, reg_lambda=1.5, subsample=0.5;, score=0.923 total time=   9.5s\n"
     ]
    },
    {
     "name": "stderr",
     "output_type": "stream",
     "text": [
      "c:\\Users\\augusto.lourencatto\\Desktop\\me\\TCC\\venv\\lib\\site-packages\\xgboost\\data.py:262: FutureWarning: pandas.Int64Index is deprecated and will be removed from pandas in a future version. Use pandas.Index with the appropriate dtype instead.\n",
      "  elif isinstance(data.columns, (pd.Int64Index, pd.RangeIndex)):\n"
     ]
    },
    {
     "name": "stdout",
     "output_type": "stream",
     "text": [
      "[CV 5/5] END colsample_bytree=0.3, gamma=0.3, learning_rate=0.1, max_depth=10, min_child_weight=1, n_estimators=100, reg_alpha=1, reg_lambda=1.5, subsample=0.5;, score=0.932 total time=  10.2s\n"
     ]
    },
    {
     "name": "stderr",
     "output_type": "stream",
     "text": [
      "c:\\Users\\augusto.lourencatto\\Desktop\\me\\TCC\\venv\\lib\\site-packages\\xgboost\\data.py:262: FutureWarning: pandas.Int64Index is deprecated and will be removed from pandas in a future version. Use pandas.Index with the appropriate dtype instead.\n",
      "  elif isinstance(data.columns, (pd.Int64Index, pd.RangeIndex)):\n"
     ]
    }
   ],
   "source": [
    "# Label containes NaN\n",
    "\n",
    "model_xgboost = xgb_rscv.fit(X_train_xg, y_train_xg)"
   ]
  },
  {
   "cell_type": "code",
   "execution_count": 49,
   "metadata": {},
   "outputs": [
    {
     "data": {
      "text/plain": [
       "XGBRegressor(base_score=0.5, booster='gbtree', colsample_bylevel=1,\n",
       "             colsample_bynode=1, colsample_bytree=0.6, enable_categorical=False,\n",
       "             gamma=0.3, gpu_id=0, importance_type=None,\n",
       "             interaction_constraints='', learning_rate=0.1, max_delta_step=0,\n",
       "             max_depth=10, min_child_weight=1, missing=nan,\n",
       "             monotone_constraints='()', n_estimators=500, n_jobs=8,\n",
       "             num_parallel_tree=1, predictor='auto', random_state=0, reg_alpha=0,\n",
       "             reg_lambda=3, sampling_method='gradient_based', scale_pos_weight=1,\n",
       "             subsample=0.4, tree_method='gpu_hist', validate_parameters=1,\n",
       "             verbosity=None)"
      ]
     },
     "execution_count": 49,
     "metadata": {},
     "output_type": "execute_result"
    }
   ],
   "source": [
    "model_xgboost.best_estimator_"
   ]
  },
  {
   "cell_type": "code",
   "execution_count": 51,
   "metadata": {},
   "outputs": [],
   "source": [
    "reg = xgb.XGBRegressor(base_score=0.5, booster='gbtree', colsample_bylevel=1,\n",
    "             colsample_bynode=1, colsample_bytree=0.6, enable_categorical=False,\n",
    "             gamma=0.3, gpu_id=0, importance_type=None,\n",
    "             interaction_constraints='', learning_rate=0.1, max_delta_step=0,\n",
    "             max_depth=10, min_child_weight=1, missing=np.nan,\n",
    "             monotone_constraints='()', n_estimators=500, n_jobs=8,\n",
    "             num_parallel_tree=1, predictor='auto', random_state=0, reg_alpha=0,\n",
    "             reg_lambda=3, sampling_method='gradient_based', scale_pos_weight=1,\n",
    "             subsample=0.4, tree_method='gpu_hist', validate_parameters=1,\n",
    "             verbosity=None)"
   ]
  },
  {
   "cell_type": "code",
   "execution_count": 60,
   "metadata": {},
   "outputs": [],
   "source": [
    "joblib.dump(reg, \"./models/xgboost_v1.joblib.dat\")\n",
    "loaded_model = joblib.load(\"./models/xgboost_v1.joblib.dat\")"
   ]
  },
  {
   "cell_type": "code",
   "execution_count": 52,
   "metadata": {},
   "outputs": [],
   "source": [
    "#MAPE\n",
    "def mean_absolute_percentage_error(y_true, y_pred):\n",
    "    y_true, y_pred = np.array(y_true), np.array(y_pred)\n",
    "    return np.mean(np.abs((y_true - y_pred) / y_true)) * 100"
   ]
  },
  {
   "cell_type": "code",
   "execution_count": 53,
   "metadata": {},
   "outputs": [
    {
     "name": "stderr",
     "output_type": "stream",
     "text": [
      "c:\\Users\\augusto.lourencatto\\Desktop\\me\\TCC\\venv\\lib\\site-packages\\xgboost\\data.py:262: FutureWarning: pandas.Int64Index is deprecated and will be removed from pandas in a future version. Use pandas.Index with the appropriate dtype instead.\n",
      "  elif isinstance(data.columns, (pd.Int64Index, pd.RangeIndex)):\n"
     ]
    },
    {
     "data": {
      "text/plain": [
       "XGBRegressor(base_score=0.5, booster='gbtree', colsample_bylevel=1,\n",
       "             colsample_bynode=1, colsample_bytree=0.6, enable_categorical=False,\n",
       "             gamma=0.3, gpu_id=0, importance_type=None,\n",
       "             interaction_constraints='', learning_rate=0.1, max_delta_step=0,\n",
       "             max_depth=10, min_child_weight=1, missing=nan,\n",
       "             monotone_constraints='()', n_estimators=500, n_jobs=8,\n",
       "             num_parallel_tree=1, predictor='auto', random_state=0, reg_alpha=0,\n",
       "             reg_lambda=3, sampling_method='gradient_based', scale_pos_weight=1,\n",
       "             subsample=0.4, tree_method='gpu_hist', validate_parameters=1,\n",
       "             verbosity=None)"
      ]
     },
     "execution_count": 53,
     "metadata": {},
     "output_type": "execute_result"
    }
   ],
   "source": [
    "reg.fit(X_train_xg, y_train_xg,\n",
    "          verbose=False)"
   ]
  },
  {
   "cell_type": "code",
   "execution_count": 57,
   "metadata": {},
   "outputs": [
    {
     "name": "stderr",
     "output_type": "stream",
     "text": [
      "c:\\Users\\augusto.lourencatto\\Desktop\\me\\TCC\\venv\\lib\\site-packages\\xgboost\\data.py:262: FutureWarning: pandas.Int64Index is deprecated and will be removed from pandas in a future version. Use pandas.Index with the appropriate dtype instead.\n",
      "  elif isinstance(data.columns, (pd.Int64Index, pd.RangeIndex)):\n"
     ]
    },
    {
     "data": {
      "text/plain": [
       "(1543.7355270566154, 3.9667346071036294)"
      ]
     },
     "execution_count": 57,
     "metadata": {},
     "output_type": "execute_result"
    }
   ],
   "source": [
    "yhat = reg.predict(X_test_xg)\n",
    "maeTeste = mean_absolute_error(y_test_xg,yhat)\n",
    "mape_teste = mean_absolute_percentage_error(y_test_xg,yhat)\n",
    "maeTeste,mape_teste"
   ]
  }
 ],
 "metadata": {
  "interpreter": {
   "hash": "339d552ec0a4b97d6d212c988b460a0411526b081f82ab4766f9453b88a5fdcc"
  },
  "kernelspec": {
   "display_name": "Python 3.8.8 ('base')",
   "language": "python",
   "name": "python3"
  },
  "language_info": {
   "codemirror_mode": {
    "name": "ipython",
    "version": 3
   },
   "file_extension": ".py",
   "mimetype": "text/x-python",
   "name": "python",
   "nbconvert_exporter": "python",
   "pygments_lexer": "ipython3",
   "version": "3.8.8"
  },
  "orig_nbformat": 4
 },
 "nbformat": 4,
 "nbformat_minor": 2
}
